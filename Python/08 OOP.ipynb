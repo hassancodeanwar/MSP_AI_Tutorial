{
 "cells": [
  {
   "cell_type": "markdown",
   "metadata": {},
   "source": [
    "Creating a detailed notebook to demonstrate Object-Oriented Programming (OOP) concepts in Python is a comprehensive task. Below is an outline of the notebook, with explanations and example code for each concept. You can create this notebook using Jupyter Notebook, Google Colab, or any other preferred Python environment.\n",
    "\n",
    "# Object-Oriented Programming (OOP) Concepts in Python\n",
    "\n",
    "## Introduction\n",
    "\n",
    "Object-Oriented Programming (OOP) is a programming paradigm that uses objects to structure code. In Python, everything is an object, and OOP plays a significant role in the language. This notebook covers essential OOP concepts with examples.\n",
    "\n",
    "## Table of Contents\n",
    "1. **Classes and Objects**\n",
    "    - Defining a Class\n",
    "    - Creating Objects\n",
    "    - Class Attributes and Methods\n",
    "\n",
    "2. **Encapsulation**\n",
    "    - Public, Private, and Protected Members\n",
    "    - Getters and Setters\n",
    "\n",
    "3. **Inheritance**\n",
    "    - Base Class and Derived Class\n",
    "    - Method Overriding\n",
    "\n",
    "4. **Polymorphism**\n",
    "    - Method Overloading\n",
    "    - Method Overriding\n",
    "    - Abstract Classes and Interfaces\n",
    "\n",
    "5. **Abstraction**\n",
    "    - Abstract Classes\n",
    "    - Abstract Methods\n",
    "\n",
    "### 1. Classes and Objects\n",
    "\n",
    "#### 1.1 Defining a Class\n",
    "\n",
    "\n",
    "\n",
    "\n"
   ]
  },
  {
   "cell_type": "code",
   "execution_count": 8,
   "metadata": {},
   "outputs": [],
   "source": [
    "class Car:\n",
    "    def __init__(self, make, model, year):\n",
    "        self.make = make\n",
    "        self.model = model\n",
    "        self.year = year\n",
    "\n",
    "    def display_info(self):\n",
    "        print(f\"{self.year} {self.make} {self.model}\")"
   ]
  },
  {
   "cell_type": "markdown",
   "metadata": {},
   "source": [
    "#### 1.2 Creating Objects\n",
    "\n"
   ]
  },
  {
   "cell_type": "code",
   "execution_count": 9,
   "metadata": {},
   "outputs": [],
   "source": [
    "car1 = Car(\"Toyota\", \"Camry\", 2022)\n",
    "car2 = Car(\"Honda\", \"Civic\", 2021)"
   ]
  },
  {
   "cell_type": "markdown",
   "metadata": {},
   "source": [
    "\n",
    "#### 1.3 Class Attributes and Methods\n",
    "\n"
   ]
  },
  {
   "cell_type": "code",
   "execution_count": 10,
   "metadata": {},
   "outputs": [],
   "source": [
    "class Car:\n",
    "    # Class attribute\n",
    "    wheels = 4\n",
    "\n",
    "    def __init__(self, make, model, year):\n",
    "        # Instance attributes\n",
    "        self.make = make\n",
    "        self.model = model\n",
    "        self.year = year\n",
    "\n",
    "    def display_info(self):\n",
    "        print(f\"{self.year} {self.make} {self.model}\")"
   ]
  },
  {
   "cell_type": "markdown",
   "metadata": {},
   "source": [
    "\n",
    "\n",
    "### 2. Encapsulation\n",
    "\n",
    "#### 2.1 Public, Private, and Protected Members\n",
    "\n",
    "```python\n",
    "class Student:\n",
    "    def __init__(self, name, age):\n",
    "        self.name = name          # Public member\n",
    "        self._age = age           # Protected member\n",
    "        self.__id = 12345         # Private member\n",
    "```\n",
    "\n",
    "#### 2.2 Getters and Setters\n",
    "\n",
    "```python\n",
    "class Student:\n",
    "    def __init__(self, name, age):\n",
    "        self.name = name\n",
    "        self._age = age\n",
    "\n",
    "    # Getter for age\n",
    "    def get_age(self):\n",
    "        return self._age\n",
    "\n",
    "    # Setter for age\n",
    "    def set_age(self, age):\n",
    "        if age >= 0:\n",
    "            self._age = age\n",
    "        else:\n",
    "            print(\"Age cannot be negative.\")\n",
    "```\n",
    "\n",
    "### 3. Inheritance\n",
    "\n",
    "#### 3.1 Base Class and Derived Class\n",
    "\n",
    "```python\n",
    "class Animal:\n",
    "    def __init__(self, name):\n",
    "        self.name = name\n",
    "\n",
    "class Dog(Animal):\n",
    "    def bark(self):\n",
    "        print(f\"{self.name} barks.\")\n",
    "```\n",
    "\n",
    "#### 3.2 Method Overriding\n",
    "\n",
    "```python\n",
    "class Animal:\n",
    "    def speak(self):\n",
    "        pass\n",
    "\n",
    "class Dog(Animal):\n",
    "    def speak(self):\n",
    "        print(\"Dog barks.\")\n",
    "\n",
    "class Cat(Animal):\n",
    "    def speak(self):\n",
    "        print(\"Cat meows.\")\n",
    "```\n",
    "\n",
    "### 4. Polymorphism\n",
    "\n",
    "#### 4.1 Method Overloading\n",
    "\n",
    "```python\n",
    "class Calculator:\n",
    "    def add(self, a, b):\n",
    "        return a + b\n",
    "\n",
    "    def add(self, a, b, c):\n",
    "        return a + b + c\n",
    "```\n",
    "\n",
    "#### 4.2 Method Overriding\n",
    "\n",
    "```python\n",
    "class Shape:\n",
    "    def area(self):\n",
    "        pass\n",
    "\n",
    "class Circle(Shape):\n",
    "    def area(self, radius):\n",
    "        return 3.14 * radius * radius\n",
    "\n",
    "class Rectangle(Shape):\n",
    "    def area(self, length, width):\n",
    "        return length * width\n",
    "```\n",
    "\n",
    "### 5. Abstraction\n",
    "\n",
    "#### 5.1 Abstract Classes\n",
    "\n",
    "```python\n",
    "from abc import ABC, abstractmethod\n",
    "\n",
    "class Vehicle(ABC):\n",
    "    @abstractmethod\n",
    "    def start(self):\n",
    "        pass\n",
    "\n",
    "    @abstractmethod\n",
    "    def stop(self):\n",
    "        pass\n",
    "```\n",
    "\n"
   ]
  },
  {
   "cell_type": "markdown",
   "metadata": {},
   "source": []
  },
  {
   "cell_type": "markdown",
   "metadata": {},
   "source": [
    "Creating an entire notebook on object-oriented programming (OOP) concepts is a substantial task, but I can provide you with an outline and code examples that you can use to create your notebook. You can use a Python environment like Jupyter Notebook or Google Colab to create your notebook. Here's an outline of what you can include:\n",
    "\n",
    "## Object-Oriented Programming Concepts\n",
    "\n",
    "### 1. Introduction to OOP\n",
    "\n",
    "   - Explanation of what OOP is.\n",
    "   - Advantages of OOP.\n",
    "\n",
    "### 2. Classes and Objects\n",
    "\n",
    "   - Define a class.\n",
    "   - Create objects from a class.\n",
    "   - Class attributes and instance attributes.\n",
    "   - Methods in a class.\n",
    "   \n"
   ]
  },
  {
   "cell_type": "code",
   "execution_count": 11,
   "metadata": {},
   "outputs": [
    {
     "name": "stdout",
     "output_type": "stream",
     "text": [
      "Alice\n",
      "25\n",
      "Hello, my name is Alice and I am 30 years old.\n"
     ]
    }
   ],
   "source": [
    "class Person:\n",
    "    # Class attribute\n",
    "    species = \"Homo sapiens\"\n",
    "\n",
    "    def __init__(self, name, age):\n",
    "        # Instance attributes\n",
    "        self.name = name\n",
    "        self.age = age\n",
    "\n",
    "    def greet(self):\n",
    "        return f\"Hello, my name is {self.name} and I am {self.age} years old.\"\n",
    "\n",
    "# Create objects\n",
    "person1 = Person(\"Alice\", 30)\n",
    "person2 = Person(\"Bob\", 25)\n",
    "\n",
    "# Access attributes and call methods\n",
    "print(person1.name)\n",
    "print(person2.age)\n",
    "print(person1.greet())"
   ]
  },
  {
   "cell_type": "markdown",
   "metadata": {},
   "source": [
    "### 3. Inheritance\n",
    "\n",
    "   - Creating subclasses.\n",
    "   - Overriding methods.\n",
    "   \n"
   ]
  },
  {
   "cell_type": "code",
   "execution_count": 12,
   "metadata": {},
   "outputs": [
    {
     "name": "stdout",
     "output_type": "stream",
     "text": [
      "Hello, I'm a student. My name is Eve, I am 20 years old, and my student ID is 12345.\n"
     ]
    }
   ],
   "source": [
    "class Student(Person):\n",
    "    def __init__(self, name, age, student_id):\n",
    "        super().__init__(name, age)\n",
    "        self.student_id = student_id\n",
    "\n",
    "    # Overriding the greet method\n",
    "    def greet(self):\n",
    "        return f\"Hello, I'm a student. My name is {self.name}, I am {self.age} years old, and my student ID is {self.student_id}.\"\n",
    "\n",
    "student1 = Student(\"Eve\", 20, \"12345\")\n",
    "print(student1.greet())"
   ]
  },
  {
   "cell_type": "markdown",
   "metadata": {},
   "source": [
    "### 4. Encapsulation\n",
    "\n",
    "   - Access modifiers (public, private, protected).\n",
    "   - Using getter and setter methods.\n",
    "   \n",
    "\n"
   ]
  },
  {
   "cell_type": "code",
   "execution_count": 13,
   "metadata": {},
   "outputs": [
    {
     "name": "stdout",
     "output_type": "stream",
     "text": [
      "1000\n",
      "1500\n"
     ]
    }
   ],
   "source": [
    "class BankAccount:\n",
    "    def __init__(self, account_number, balance):\n",
    "        self._account_number = account_number  # Protected attribute\n",
    "        self.__balance = balance  # Private attribute\n",
    "\n",
    "    def get_balance(self):\n",
    "        return self.__balance\n",
    "\n",
    "    def set_balance(self, new_balance):\n",
    "        if new_balance >= 0:\n",
    "            self.__balance = new_balance\n",
    "\n",
    "account = BankAccount(\"12345\", 1000)\n",
    "print(account.get_balance())\n",
    "account.set_balance(1500)\n",
    "print(account.get_balance())"
   ]
  },
  {
   "cell_type": "markdown",
   "metadata": {},
   "source": [
    "### 5. Polymorphism\n",
    "\n",
    "   - Duck typing.\n",
    "   - Operator overloading.\n",
    "   \n"
   ]
  },
  {
   "cell_type": "code",
   "execution_count": 14,
   "metadata": {},
   "outputs": [
    {
     "name": "stdout",
     "output_type": "stream",
     "text": [
      "Meow!\n",
      "Woof!\n"
     ]
    }
   ],
   "source": [
    "class Cat:\n",
    "    def speak(self):\n",
    "        return \"Meow!\"\n",
    "\n",
    "class Dog:\n",
    "    def speak(self):\n",
    "        return \"Woof!\"\n",
    "\n",
    "def animal_sound(animal):\n",
    "    return animal.speak()\n",
    "\n",
    "cat = Cat()\n",
    "dog = Dog()\n",
    "\n",
    "print(animal_sound(cat))\n",
    "print(animal_sound(dog))"
   ]
  },
  {
   "cell_type": "markdown",
   "metadata": {},
   "source": [
    "### 6. Abstract Classes and Interfaces\n",
    "\n",
    "   - Using the `abc` module for abstract classes.\n",
    "   \n"
   ]
  },
  {
   "cell_type": "code",
   "execution_count": 15,
   "metadata": {},
   "outputs": [
    {
     "name": "stdout",
     "output_type": "stream",
     "text": [
      "78.5\n"
     ]
    }
   ],
   "source": [
    "from abc import ABC, abstractmethod\n",
    "\n",
    "class Shape(ABC):\n",
    "    @abstractmethod\n",
    "    def area(self):\n",
    "        pass\n",
    "\n",
    "class Circle(Shape):\n",
    "    def __init__(self, radius):\n",
    "        self.radius = radius\n",
    "\n",
    "    def area(self):\n",
    "        return 3.14 * self.radius * self.radius\n",
    "\n",
    "circle = Circle(5)\n",
    "print(circle.area())"
   ]
  },
  {
   "cell_type": "markdown",
   "metadata": {},
   "source": []
  }
 ],
 "metadata": {
  "kernelspec": {
   "display_name": "Python 3",
   "language": "python",
   "name": "python3"
  },
  "language_info": {
   "codemirror_mode": {
    "name": "ipython",
    "version": 3
   },
   "file_extension": ".py",
   "mimetype": "text/x-python",
   "name": "python",
   "nbconvert_exporter": "python",
   "pygments_lexer": "ipython3",
   "version": "3.10.10"
  }
 },
 "nbformat": 4,
 "nbformat_minor": 2
}
