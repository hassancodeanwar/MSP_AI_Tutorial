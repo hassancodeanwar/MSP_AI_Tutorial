{
 "cells": [
  {
   "cell_type": "markdown",
   "metadata": {},
   "source": [
    "## Functions\n",
    "\n",
    "### 15. Defining Functions\n",
    "\n",
    "Functions are blocks of reusable code that perform specific tasks. In Python, you can define functions using the `def` keyword.\n"
   ]
  },
  {
   "cell_type": "code",
   "execution_count": 1,
   "metadata": {},
   "outputs": [
    {
     "name": "stdout",
     "output_type": "stream",
     "text": [
      "Hello, Alice!\n"
     ]
    }
   ],
   "source": [
    "def greet(name):\n",
    "    print(f\"Hello, {name}!\")\n",
    "\n",
    "# Calling the function\n",
    "greet(\"Alice\")"
   ]
  },
  {
   "cell_type": "markdown",
   "metadata": {},
   "source": [
    "### 16. Function Parameters and Return Values\n",
    "\n",
    "#### Function Parameters\n",
    "\n",
    "You can pass parameters to functions to provide input data."
   ]
  },
  {
   "cell_type": "code",
   "execution_count": 2,
   "metadata": {},
   "outputs": [],
   "source": [
    "def add(a, b):\n",
    "    return a + b\n",
    "\n",
    "result = add(3, 4)"
   ]
  },
  {
   "cell_type": "markdown",
   "metadata": {},
   "source": [
    "#### Return Values\n",
    "\n",
    "Functions can return values using the `return` statement. You can capture the return value in a variable when you call the function.\n",
    "\n",
    "### 17. Lambda Functions\n",
    "\n",
    "Lambda functions, also known as anonymous functions, are concise functions defined without a name. They are useful for simple operations.\n",
    "\n"
   ]
  },
  {
   "cell_type": "code",
   "execution_count": 3,
   "metadata": {},
   "outputs": [],
   "source": [
    "add = lambda a, b: a + b\n",
    "result = add(3, 4)"
   ]
  },
  {
   "cell_type": "markdown",
   "metadata": {},
   "source": [
    "Lambda functions are commonly used in functions like `map`, `filter`, and `sorted`."
   ]
  },
  {
   "cell_type": "markdown",
   "metadata": {},
   "source": [
    "### 18. Scope and Lifetime of Variables\n",
    "\n",
    "#### Scope\n",
    "\n",
    "A variable's scope defines where in the code it can be accessed. Python has local and global scopes.\n",
    "\n",
    "- Local variables are defined within a function and can only be accessed within that function.\n",
    "- Global variables are defined outside functions and can be accessed anywhere in the code.\n",
    "\n"
   ]
  },
  {
   "cell_type": "code",
   "execution_count": 4,
   "metadata": {},
   "outputs": [
    {
     "name": "stdout",
     "output_type": "stream",
     "text": [
      "10\n",
      "5\n",
      "10\n"
     ]
    }
   ],
   "source": [
    "x = 10  # Global variable\n",
    "\n",
    "def my_function():\n",
    "    y = 5  # Local variable\n",
    "    print(x)  # Access global variable\n",
    "    print(y)  # Access local variable\n",
    "\n",
    "my_function()\n",
    "print(x)  # Access global variable outside function"
   ]
  },
  {
   "cell_type": "markdown",
   "metadata": {},
   "source": [
    "#### Lifetime\n",
    "\n",
    "The lifetime of a variable is the period during which it exists in memory. Local variables have a shorter lifetime than global variables, which exist for the entire program's duration.\n",
    "\n",
    "### 19. Recursion\n",
    "\n",
    "Recursion is a programming technique where a function calls itself to solve a problem. It's often used in problems that can be broken down into smaller, similar subproblems.\n"
   ]
  },
  {
   "cell_type": "code",
   "execution_count": null,
   "metadata": {},
   "outputs": [],
   "source": [
    "def factorial(n):\n",
    "    if n == 0:\n",
    "        return 1\n",
    "    else:\n",
    "        return n * factorial(n - 1)\n",
    "\n",
    "result = factorial(5)  # Calculates 5!"
   ]
  },
  {
   "cell_type": "markdown",
   "metadata": {},
   "source": [
    "\n",
    "\n",
    "\n",
    "\n",
    "\n",
    "\n",
    "\n",
    "\n",
    "Recursion can make your code more elegant and easier to understand in some cases, but it should be used with caution to avoid infinite recursion.\n",
    "\n",
    "Understanding how to define functions, pass parameters, use return values, work with lambda functions, manage variable scope and lifetime, and apply recursion is essential for writing organized and efficient code in Python. Functions are building blocks that allow you to create modular and maintainable programs."
   ]
  },
  {
   "cell_type": "code",
   "execution_count": null,
   "metadata": {},
   "outputs": [],
   "source": []
  }
 ],
 "metadata": {
  "kernelspec": {
   "display_name": "Python 3",
   "language": "python",
   "name": "python3"
  },
  "language_info": {
   "codemirror_mode": {
    "name": "ipython",
    "version": 3
   },
   "file_extension": ".py",
   "mimetype": "text/x-python",
   "name": "python",
   "nbconvert_exporter": "python",
   "pygments_lexer": "ipython3",
   "version": "3.10.10"
  }
 },
 "nbformat": 4,
 "nbformat_minor": 2
}
