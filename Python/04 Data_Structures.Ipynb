{
 "cells": [
  {
   "cell_type": "markdown",
   "metadata": {},
   "source": [
    "## Data Structures\n",
    "\n",
    "### 11. Lists\n",
    "\n",
    "A list is a versatile data structure in Python that allows you to store and manipulate a collection of items.\n",
    "\n",
    "#### Creating and Modifying Lists\n"
   ]
  },
  {
   "cell_type": "code",
   "execution_count": 2,
   "metadata": {},
   "outputs": [
    {
     "data": {
      "text/plain": [
       "['grape', 'cherry', 'orange']"
      ]
     },
     "execution_count": 2,
     "metadata": {},
     "output_type": "execute_result"
    }
   ],
   "source": [
    "# Creating a list\n",
    "fruits = [\"apple\", \"banana\", \"cherry\"]\n",
    "\n",
    "# Modifying a list\n",
    "fruits[1] = \"grape\"  # Update the second item\n",
    "fruits.append(\"orange\")  # Add a new item to the end\n",
    "fruits.remove(\"apple\")  # Remove an item\n",
    "\n",
    "fruits"
   ]
  },
  {
   "cell_type": "markdown",
   "metadata": {},
   "source": [
    "#### Indexing and Slicing\n"
   ]
  },
  {
   "cell_type": "code",
   "execution_count": 3,
   "metadata": {},
   "outputs": [],
   "source": [
    "# Accessing elements by index\n",
    "first_fruit = fruits[0]  # Access the first item\n",
    "\n",
    "# Slicing\n",
    "selected_fruits = fruits[1:3]  # Get items at index 1 and 2 (inclusive:exclusive)"
   ]
  },
  {
   "cell_type": "markdown",
   "metadata": {},
   "source": [
    "\n",
    "\n",
    "#### List Methods\n",
    "\n",
    "- `append()`: Add an item to the end of the list.\n",
    "- `extend()`: Add the elements of one list to another.\n",
    "- `pop()`: Remove and return the last item.\n",
    "- `insert()`: Insert an item at a specific index.\n",
    "- `remove()`: Remove the first occurrence of a specific item.\n",
    "- `len()`: Get the length (number of elements) of the list.\n",
    "- `sort()`: Sort the list in ascending order.\n",
    "- `reverse()`: Reverse the order of elements in the list.\n",
    "\n",
    "### 12. Tuples\n",
    "\n",
    "A tuple is an immutable data structure that stores an ordered collection of items.\n",
    "\n",
    "#### Creating and Accessing Tuples\n"
   ]
  },
  {
   "cell_type": "code",
   "execution_count": 4,
   "metadata": {},
   "outputs": [
    {
     "name": "stdout",
     "output_type": "stream",
     "text": [
      "x: 3, y: 4\n"
     ]
    }
   ],
   "source": [
    "# Creating a tuple\n",
    "coordinates = (3, 4)\n",
    "\n",
    "# Accessing elements\n",
    "x, y = coordinates  # Tuple unpacking\n",
    "print(f\"x: {x}, y: {y}\")"
   ]
  },
  {
   "cell_type": "markdown",
   "metadata": {},
   "source": [
    "### 13. Dictionaries\n",
    "\n",
    "A dictionary is a collection of key-value pairs in Python. It's an essential data structure for storing and retrieving data quickly.\n",
    "\n",
    "#### Creating and Modifying Dictionaries\n",
    "\n"
   ]
  },
  {
   "cell_type": "code",
   "execution_count": 5,
   "metadata": {},
   "outputs": [],
   "source": [
    "# Creating a dictionary\n",
    "person = {\n",
    "    \"name\": \"Alice\",\n",
    "    \"age\": 30,\n",
    "    \"city\": \"New York\"\n",
    "}\n",
    "\n",
    "# Modifying a dictionary\n",
    "person[\"age\"] = 31  # Update the age\n",
    "person[\"job\"] = \"Engineer\"  # Add a new key-value pair\n",
    "del person[\"city\"]  # Remove a key-value pair"
   ]
  },
  {
   "cell_type": "markdown",
   "metadata": {},
   "source": [
    "\n",
    "#### Accessing and Iterating Through Dictionaries\n"
   ]
  },
  {
   "cell_type": "code",
   "execution_count": 6,
   "metadata": {},
   "outputs": [
    {
     "name": "stdout",
     "output_type": "stream",
     "text": [
      "name: Alice\n",
      "age: 31\n",
      "job: Engineer\n"
     ]
    }
   ],
   "source": [
    "# Accessing values by key\n",
    "name = person[\"name\"]\n",
    "\n",
    "# Iterating through keys and values\n",
    "for key, value in person.items():\n",
    "    print(f\"{key}: {value}\")"
   ]
  },
  {
   "cell_type": "markdown",
   "metadata": {},
   "source": [
    "### 14. Sets\n",
    "\n",
    "A set is an unordered collection of unique elements.\n",
    "\n",
    "#### Creating and Manipulating Sets\n"
   ]
  },
  {
   "cell_type": "code",
   "execution_count": 7,
   "metadata": {},
   "outputs": [],
   "source": [
    "# Creating a set\n",
    "fruits = {\"apple\", \"banana\", \"cherry\"}\n",
    "\n",
    "# Adding and removing elements\n",
    "fruits.add(\"orange\")\n",
    "fruits.remove(\"banana\")\n",
    "\n",
    "# Set operations\n",
    "vegetables = {\"carrot\", \"lettuce\"}\n",
    "combined = fruits | vegetables  # Union of sets\n",
    "common = fruits & vegetables  # Intersection of sets"
   ]
  },
  {
   "cell_type": "markdown",
   "metadata": {},
   "source": [
    "\n",
    "\n",
    "Data structures are fundamental for organizing and manipulating data in Python. Lists, tuples, dictionaries, and sets offer different features and use cases. Understanding when and how to use each data structure is essential for writing efficient and structured Python code."
   ]
  },
  {
   "cell_type": "markdown",
   "metadata": {},
   "source": []
  }
 ],
 "metadata": {
  "kernelspec": {
   "display_name": "Python 3",
   "language": "python",
   "name": "python3"
  },
  "language_info": {
   "codemirror_mode": {
    "name": "ipython",
    "version": 3
   },
   "file_extension": ".py",
   "mimetype": "text/x-python",
   "name": "python",
   "nbconvert_exporter": "python",
   "pygments_lexer": "ipython3",
   "version": "3.10.10"
  }
 },
 "nbformat": 4,
 "nbformat_minor": 2
}
