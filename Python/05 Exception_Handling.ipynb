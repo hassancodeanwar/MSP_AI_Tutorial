{
 "cells": [
  {
   "cell_type": "markdown",
   "metadata": {},
   "source": [
    "## Exception Handling\n",
    "\n",
    "### 21. Handling Errors with `try` and `except`\n",
    "\n",
    "Exception handling in Python allows you to gracefully handle errors or exceptions that may occur during the execution of your code. It prevents your program from crashing when unexpected issues arise.\n",
    "\n",
    "#### `try` and `except` Blocks\n",
    "\n",
    "Use `try` and `except` blocks to handle exceptions. Code inside the `try` block is monitored for exceptions. If an exception occurs, Python jumps to the corresponding `except` block and executes the code there.\n",
    "\n"
   ]
  },
  {
   "cell_type": "code",
   "execution_count": 1,
   "metadata": {},
   "outputs": [
    {
     "name": "stdout",
     "output_type": "stream",
     "text": [
      "Division by zero is not allowed.\n"
     ]
    }
   ],
   "source": [
    "try:\n",
    "    # Code that may raise an exception\n",
    "    result = 10 / 0\n",
    "except ZeroDivisionError:\n",
    "    # Code to handle the specific exception\n",
    "    print(\"Division by zero is not allowed.\")\n",
    "except Exception as e:\n",
    "    # Generic exception handling\n",
    "    print(f\"An error occurred: {e}\")"
   ]
  },
  {
   "cell_type": "markdown",
   "metadata": {},
   "source": [
    "\n",
    "In the above example:\n",
    "\n",
    "- The `try` block contains code that might raise an exception (in this case, a `ZeroDivisionError` due to dividing by zero).\n",
    "- The `except` block catches the `ZeroDivisionError` and prints an error message.\n",
    "- The second `except` block is a generic exception handler that catches any exception (represented by `Exception`) and prints an error message.\n",
    "\n",
    "It's good practice to be as specific as possible when catching exceptions, so you can handle them appropriately.\n",
    "\n",
    "#### Handling Multiple Exceptions\n",
    "\n",
    "You can handle multiple exceptions in the same `try` block by adding multiple `except` blocks.\n",
    "\n"
   ]
  },
  {
   "cell_type": "code",
   "execution_count": 5,
   "metadata": {},
   "outputs": [
    {
     "name": "stdout",
     "output_type": "stream",
     "text": [
      "Division by zero is not allowed.\n"
     ]
    }
   ],
   "source": [
    "try:\n",
    "    x = 10 / 0\n",
    "    value = int(\"not_an_integer\")\n",
    "except ZeroDivisionError:\n",
    "    print(\"Division by zero is not allowed.\")\n",
    "except ValueError:\n",
    "    print(\"Invalid conversion to integer.\")\n",
    "except Exception as e:\n",
    "    print(f\"An error occurred: {e}\")"
   ]
  },
  {
   "cell_type": "markdown",
   "metadata": {},
   "source": [
    "#### `finally` Block\n",
    "\n",
    "You can use the `finally` block to execute code regardless of whether an exception occurred or not. This block is often used to clean up resources or perform necessary tasks.\n",
    "\n",
    "\n"
   ]
  },
  {
   "cell_type": "code",
   "execution_count": null,
   "metadata": {},
   "outputs": [],
   "source": [
    "try:\n",
    "    file = open(\"example.txt\", \"r\")\n",
    "    content = file.read()\n",
    "except FileNotFoundError:\n",
    "    print(\"File not found.\")\n",
    "finally:\n",
    "    if 'file' in locals():\n",
    "        file.close()"
   ]
  },
  {
   "cell_type": "markdown",
   "metadata": {},
   "source": [
    "In this example, the `finally` block ensures that the file is closed, even if an exception occurred.\n",
    "\n",
    "Exception handling is crucial for writing robust and reliable Python programs. It allows you to anticipate and handle unexpected errors, making your code more stable and user-friendly."
   ]
  },
  {
   "cell_type": "code",
   "execution_count": null,
   "metadata": {},
   "outputs": [],
   "source": []
  }
 ],
 "metadata": {
  "kernelspec": {
   "display_name": "Python 3",
   "language": "python",
   "name": "python3"
  },
  "language_info": {
   "codemirror_mode": {
    "name": "ipython",
    "version": 3
   },
   "file_extension": ".py",
   "mimetype": "text/x-python",
   "name": "python",
   "nbconvert_exporter": "python",
   "pygments_lexer": "ipython3",
   "version": "3.10.10"
  }
 },
 "nbformat": 4,
 "nbformat_minor": 2
}
