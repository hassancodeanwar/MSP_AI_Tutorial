{
 "cells": [
  {
   "cell_type": "markdown",
   "metadata": {},
   "source": [
    "## Python Basics\n",
    "\n",
    "### Hello, World! - Your First Python Program\n",
    "\n",
    "Let's begin by creating your first Python program, a simple \"Hello, World!\" example.\n"
   ]
  },
  {
   "cell_type": "code",
   "execution_count": 1,
   "metadata": {},
   "outputs": [
    {
     "name": "stdout",
     "output_type": "stream",
     "text": [
      "Hello, World!\n"
     ]
    }
   ],
   "source": [
    "print(\"Hello, World!\")"
   ]
  },
  {
   "cell_type": "markdown",
   "metadata": {},
   "source": [
    "\n",
    "- `print()` is a built-in Python function that displays text or variables in the console.\n",
    "\n"
   ]
  },
  {
   "cell_type": "markdown",
   "metadata": {},
   "source": [
    "To take user input in Python and cast it to different data types, you can use the `input()` function to read a string from the user, and then use various casting methods to convert that string to the desired data type. Here are examples of how to do this with different data types:\n",
    "\n",
    "1. **Integer (int):**\n",
    "\n",
    "```python\n",
    "user_input = input(\"Enter an integer: \")\n",
    "try:\n",
    "    integer_value = int(user_input)\n",
    "    print(\"As an integer:\", integer_value)\n",
    "except ValueError:\n",
    "    print(\"Invalid input. Please enter a valid integer.\")\n",
    "```\n",
    "\n",
    "2. **Float (float):**\n",
    "\n",
    "```python\n",
    "user_input = input(\"Enter a floating-point number: \")\n",
    "try:\n",
    "    float_value = float(user_input)\n",
    "    print(\"As a float:\", float_value)\n",
    "except ValueError:\n",
    "    print(\"Invalid input. Please enter a valid floating-point number.\")\n",
    "```\n",
    "\n",
    "3. **String (str):**\n",
    "\n",
    "You don't need to cast the input to a string since `input()` already returns a string.\n",
    "\n",
    "```python\n",
    "user_input = input(\"Enter a string: \")\n",
    "print(\"As a string:\", user_input)\n",
    "```\n",
    "\n",
    "4. **Boolean (bool):**\n",
    "\n",
    "```python\n",
    "user_input = input(\"Enter 'True' or 'False': \").strip().lower()\n",
    "if user_input == 'true':\n",
    "    boolean_value = True\n",
    "    print(\"As a boolean:\", boolean_value)\n",
    "elif user_input == 'false':\n",
    "    boolean_value = False\n",
    "    print(\"As a boolean:\", boolean_value)\n",
    "else:\n",
    "    print(\"Invalid input. Please enter 'True' or 'False'.\")\n",
    "```\n",
    "\n",
    "5. **List (list):**\n",
    "\n",
    "```python\n",
    "user_input = input(\"Enter a list (comma-separated): \")\n",
    "try:\n",
    "    list_value = user_input.split(',')\n",
    "    print(\"As a list:\", list_value)\n",
    "except ValueError:\n",
    "    print(\"Invalid input. Please enter a comma-separated list.\")\n",
    "```\n",
    "\n",
    "6. **Tuple (tuple):**\n",
    "\n",
    "```python\n",
    "user_input = input(\"Enter a tuple (comma-separated): \")\n",
    "try:\n",
    "    tuple_value = tuple(user_input.split(','))\n",
    "    print(\"As a tuple:\", tuple_value)\n",
    "except ValueError:\n",
    "    print(\"Invalid input. Please enter a comma-separated tuple.\")\n",
    "```\n",
    "\n",
    "7. **Dictionary (dict):**\n",
    "\n",
    "```python\n",
    "user_input = input(\"Enter a dictionary (key-value pairs, comma-separated): \")\n",
    "try:\n",
    "    items = user_input.split(',')\n",
    "    dictionary_value = dict(item.split(':') for item in items)\n",
    "    print(\"As a dictionary:\", dictionary_value)\n",
    "except (ValueError, TypeError):\n",
    "    print(\"Invalid input. Please enter key-value pairs as 'key:value'.\")\n",
    "```\n",
    "\n",
    "These examples demonstrate how to take user input as a string and then cast it to different data types. Remember to handle potential input errors to ensure your program doesn't crash due to unexpected user input."
   ]
  },
  {
   "cell_type": "code",
   "execution_count": null,
   "metadata": {},
   "outputs": [],
   "source": []
  },
  {
   "cell_type": "markdown",
   "metadata": {},
   "source": [
    "\n",
    "### Comments in Python\n",
    "\n",
    "Comments are used to annotate code for documentation or clarification. They are not executed by Python. Comments start with the `#` symbol.\n",
    "\n"
   ]
  },
  {
   "cell_type": "code",
   "execution_count": 2,
   "metadata": {},
   "outputs": [
    {
     "data": {
      "text/plain": [
       "'\\nThis is a multi-line comment\\nusing triple quotes.\\n'"
      ]
     },
     "execution_count": 2,
     "metadata": {},
     "output_type": "execute_result"
    }
   ],
   "source": [
    "# This is a single-line comment\n",
    "\n",
    "\n",
    "# this is no a multible line comment this a string doesn't assain yet to a variable\n",
    "\"\"\"\n",
    "This is a multi-line comment\n",
    "using triple quotes.\n",
    "\"\"\""
   ]
  },
  {
   "cell_type": "markdown",
   "metadata": {},
   "source": [
    "Comments are useful for explaining your code and making it more understandable for you and others who may read your code."
   ]
  },
  {
   "cell_type": "code",
   "execution_count": null,
   "metadata": {},
   "outputs": [],
   "source": []
  },
  {
   "cell_type": "markdown",
   "metadata": {},
   "source": [
    "#### In Python, identifiers are used to name variables, functions, classes, and other objects. Identifiers must follow specific rules:\n",
    "\n",
    "1. Identifiers must start with a letter (a-z, A-Z) or an underscore (_).\n",
    "2. The rest of the identifier can contain letters, numbers (0-9), and underscores.\n",
    "3. Identifiers are case-sensitive, so `my_variable` and `My_Variable` are considered different identifiers.\n",
    "\n",
    "Given these rules, here are some valid and acceptable identifier names using \"rawls\":\n",
    "\n",
    "```python\n",
    "rawls\n",
    "rawls123\n",
    "Rawls\n",
    "_Rawls\n",
    "rawls_data\n",
    "rawls_function\n",
    "```\n",
    "\n",
    "##### Remember to choose meaningful and descriptive names for your identifiers to make your code more readable and understandable."
   ]
  },
  {
   "cell_type": "markdown",
   "metadata": {},
   "source": [
    "### Variables and Data Types\n",
    "\n",
    "In Python, you can work with different data types. Here are some of the most commonly used data types:\n",
    "\n",
    "#### Integer\n",
    "An integer is a whole number without a decimal point.\n"
   ]
  },
  {
   "cell_type": "code",
   "execution_count": 3,
   "metadata": {},
   "outputs": [
    {
     "data": {
      "text/plain": [
       "5"
      ]
     },
     "execution_count": 3,
     "metadata": {},
     "output_type": "execute_result"
    }
   ],
   "source": [
    "x = 5\n",
    "x"
   ]
  },
  {
   "cell_type": "markdown",
   "metadata": {},
   "source": [
    "#### Float\n",
    "A float is a number with a decimal point."
   ]
  },
  {
   "cell_type": "code",
   "execution_count": 4,
   "metadata": {},
   "outputs": [
    {
     "data": {
      "text/plain": [
       "3.14"
      ]
     },
     "execution_count": 4,
     "metadata": {},
     "output_type": "execute_result"
    }
   ],
   "source": [
    "y = 3.14\n",
    "y"
   ]
  },
  {
   "cell_type": "markdown",
   "metadata": {},
   "source": [
    "#### Boolean\n",
    "A Boolean represents a binary value, typically `True` or `False`.\n"
   ]
  },
  {
   "cell_type": "code",
   "execution_count": 5,
   "metadata": {},
   "outputs": [
    {
     "data": {
      "text/plain": [
       "True"
      ]
     },
     "execution_count": 5,
     "metadata": {},
     "output_type": "execute_result"
    }
   ],
   "source": [
    "is_student = True\n",
    "is_student"
   ]
  },
  {
   "cell_type": "markdown",
   "metadata": {},
   "source": [
    "### Basic Arithmetic Operations\n",
    "\n",
    "Python supports various arithmetic operations on numeric data types:\n",
    "\n",
    "#### Addition\n",
    "\n"
   ]
  },
  {
   "cell_type": "code",
   "execution_count": 6,
   "metadata": {},
   "outputs": [
    {
     "data": {
      "text/plain": [
       "8"
      ]
     },
     "execution_count": 6,
     "metadata": {},
     "output_type": "execute_result"
    }
   ],
   "source": [
    "result = 5 + 3\n",
    "result"
   ]
  },
  {
   "cell_type": "markdown",
   "metadata": {},
   "source": [
    "#### Subtraction\n"
   ]
  },
  {
   "cell_type": "code",
   "execution_count": 7,
   "metadata": {},
   "outputs": [
    {
     "data": {
      "text/plain": [
       "5"
      ]
     },
     "execution_count": 7,
     "metadata": {},
     "output_type": "execute_result"
    }
   ],
   "source": [
    "result = 7 - 2\n",
    "result"
   ]
  },
  {
   "cell_type": "markdown",
   "metadata": {},
   "source": [
    "#### Multiplication\n",
    "\n"
   ]
  },
  {
   "cell_type": "code",
   "execution_count": 8,
   "metadata": {},
   "outputs": [
    {
     "data": {
      "text/plain": [
       "24"
      ]
     },
     "execution_count": 8,
     "metadata": {},
     "output_type": "execute_result"
    }
   ],
   "source": [
    "result = 4 * 6\n",
    "result"
   ]
  },
  {
   "cell_type": "markdown",
   "metadata": {},
   "source": [
    "#### Division\n"
   ]
  },
  {
   "cell_type": "code",
   "execution_count": 9,
   "metadata": {},
   "outputs": [
    {
     "data": {
      "text/plain": [
       "5.0"
      ]
     },
     "execution_count": 9,
     "metadata": {},
     "output_type": "execute_result"
    }
   ],
   "source": [
    "result = 10 / 2\n",
    "result"
   ]
  },
  {
   "cell_type": "markdown",
   "metadata": {},
   "source": [
    "#### Exponentiation"
   ]
  },
  {
   "cell_type": "code",
   "execution_count": 10,
   "metadata": {},
   "outputs": [
    {
     "data": {
      "text/plain": [
       "8"
      ]
     },
     "execution_count": 10,
     "metadata": {},
     "output_type": "execute_result"
    }
   ],
   "source": [
    "result = 2 ** 3  # 2 raised to the power of 3\n",
    "result"
   ]
  },
  {
   "cell_type": "markdown",
   "metadata": {},
   "source": [
    "#### Modulo\n",
    "The modulo operator (%) gives the remainder of a division.\n",
    "\n"
   ]
  },
  {
   "cell_type": "code",
   "execution_count": 11,
   "metadata": {},
   "outputs": [
    {
     "data": {
      "text/plain": [
       "1"
      ]
     },
     "execution_count": 11,
     "metadata": {},
     "output_type": "execute_result"
    }
   ],
   "source": [
    "result = 10 % 3  # Result will be 1\n",
    "result"
   ]
  },
  {
   "cell_type": "markdown",
   "metadata": {},
   "source": [
    "#### String\n",
    "A string is a sequence of characters enclosed in single or double quotes.\n"
   ]
  },
  {
   "cell_type": "markdown",
   "metadata": {},
   "source": [
    "In Python, a string is a sequence of characters. Strings are one of the fundamental data types, and they are used to represent text. Strings are enclosed in either single ('), double (\"), or triple (''' or \"\"\") quotes. Here are some basic concepts and operations related to strings in Python:\n",
    "\n",
    "**String Creation:**\n",
    "   - Single Quotes: `'This is a string in single quotes.'`\n",
    "   - Double Quotes: `\"This is a string in double quotes.\"`\n",
    "   - Triple Quotes: `'''This is a triple-quoted string.'''`\n",
    "\n",
    "**String Concatenation:**\n",
    "   You can concatenate two or more strings using the `+` operator.\n",
    "      ```python\n",
    "      first_name = \"John\"\n",
    "      last_name = \"Doe\"\n",
    "      full_name = first_name + \" \" + last_name\n",
    "      ```\n",
    "\n",
    "**String Indexing:**\n",
    "   You can access individual characters of a string using square brackets and an index.\n",
    "      ```python\n",
    "      text = \"Hello, World!\"\n",
    "      first_character = text[0]  # Gets the first character (H)\n",
    "      ```\n",
    "\n",
    "**String Slicing:**\n",
    "   You can slice a string to extract a portion of it.\n",
    "      ```python\n",
    "      text = \"Hello, World!\"\n",
    "      sliced_text = text[0:5]  # Slices the string from index 0 to 4 (Hello)\n",
    "      ```\n",
    "\n",
    "**String Length:**\n",
    "   You can find the length of a string using the `len()` function.\n",
    "      ```python\n",
    "      text = \"Hello, World!\"\n",
    "      length = len(text)  # Gives the length of the string (13)\n",
    "      ```\n",
    "\n",
    "**String Methods:**\n",
    "   Python provides various built-in string methods for operations such as case conversion, searching, and replacing.\n",
    "      ```python\n",
    "      text = \"Hello, World!\"\n",
    "      uppercase_text = text.upper()  # Converts the string to uppercase\n",
    "      ```\n",
    "\n",
    "**String Formatting:**\n",
    "   You can format strings using f-strings (Python 3.6+), `%` operator, or the `str.format()` method.\n",
    "      ```python\n",
    "      name = \"Alice\"\n",
    "      age = 30\n",
    "      message = f\"My name is {name} and I am {age} years old.\"\n",
    "      ```\n",
    "\n",
    "**Escape Sequences:**\n",
    "   Escape sequences are used to include special characters within a string, such as newline (`\\n`) or tab (`\\t`).\n",
    "\n",
    "   **Raw Strings:**\n",
    "   Raw strings are created by prefixing the string with 'r' or 'R' and are useful for writing regular expressions.\n",
    "\n",
    "   **String Operations:**\n",
    "    Python allows you to perform various operations on strings, including checking for substrings, counting occurrences, and more.\n",
    "\n",
    "   **Immutable:** Strings are immutable in Python, which means you cannot change the characters in an existing string. When you perform operations on a string, you create new strings.\n",
    "\n",
    "   **String Conversion:** You can convert other data types to strings using functions like `str()`.\n",
    "\n",
    "Strings are a versatile and crucial data type in Python, used in various applications, including text processing, web development, and data analysis. Understanding string manipulation is essential for working effectively with Python.\n",
    "\n",
    "\n",
    "\n",
    "\n",
    "\n"
   ]
  },
  {
   "cell_type": "markdown",
   "metadata": {},
   "source": [
    "Python provides a wide range of built-in string functions (methods) that allow you to manipulate and work with strings effectively. Here are some of the most commonly used string functions:   \n",
    "   **`len(str)`**: Returns the length of the string."
   ]
  },
  {
   "cell_type": "code",
   "execution_count": 12,
   "metadata": {},
   "outputs": [
    {
     "data": {
      "text/plain": [
       "13"
      ]
     },
     "execution_count": 12,
     "metadata": {},
     "output_type": "execute_result"
    }
   ],
   "source": [
    "text = \"Hello, World!\"\n",
    "length = len(text)  # Returns 13\n",
    "length"
   ]
  },
  {
   "cell_type": "markdown",
   "metadata": {},
   "source": [
    "   **`str.upper()`**: Converts all characters in the string to uppercase."
   ]
  },
  {
   "cell_type": "code",
   "execution_count": 13,
   "metadata": {},
   "outputs": [
    {
     "data": {
      "text/plain": [
       "'HELLO, WORLD!'"
      ]
     },
     "execution_count": 13,
     "metadata": {},
     "output_type": "execute_result"
    }
   ],
   "source": [
    "text = \"Hello, World!\"\n",
    "uppercase_text = text.upper()  # Returns \"HELLO, WORLD!\"\n",
    "uppercase_text"
   ]
  },
  {
   "cell_type": "markdown",
   "metadata": {},
   "source": [
    "   **`str.lower()`**: Converts all characters in the string to lowercase.\n",
    "\n"
   ]
  },
  {
   "cell_type": "code",
   "execution_count": 14,
   "metadata": {},
   "outputs": [
    {
     "data": {
      "text/plain": [
       "'hello, world!'"
      ]
     },
     "execution_count": 14,
     "metadata": {},
     "output_type": "execute_result"
    }
   ],
   "source": [
    "text = \"Hello, World!\"\n",
    "lowercase_text = text.lower()  # Returns \"hello, world!\"\n",
    "lowercase_text"
   ]
  },
  {
   "cell_type": "markdown",
   "metadata": {},
   "source": [
    "   **`str.strip(chars)`**: Removes leading and trailing whitespace (or specified characters) from the string."
   ]
  },
  {
   "cell_type": "code",
   "execution_count": 15,
   "metadata": {},
   "outputs": [
    {
     "data": {
      "text/plain": [
       "'Some text'"
      ]
     },
     "execution_count": 15,
     "metadata": {},
     "output_type": "execute_result"
    }
   ],
   "source": [
    "text = \"  Some text  \"\n",
    "stripped_text = text.strip()  # Returns \"Some text\"\n",
    "stripped_text"
   ]
  },
  {
   "cell_type": "markdown",
   "metadata": {},
   "source": [
    "   **`str.replace(old, new)`**: Replaces all occurrences of the old substring with the new substring.\n"
   ]
  },
  {
   "cell_type": "code",
   "execution_count": 16,
   "metadata": {},
   "outputs": [
    {
     "data": {
      "text/plain": [
       "'Hello, Python!'"
      ]
     },
     "execution_count": 16,
     "metadata": {},
     "output_type": "execute_result"
    }
   ],
   "source": [
    "text = \"Hello, World!\"\n",
    "new_text = text.replace(\"World\", \"Python\")  # Returns \"Hello, Python!\"\n",
    "new_text"
   ]
  },
  {
   "cell_type": "markdown",
   "metadata": {},
   "source": [
    "   **`str.split(delimiter)`**: Splits the string into a list of substrings using the specified delimiter."
   ]
  },
  {
   "cell_type": "code",
   "execution_count": 17,
   "metadata": {},
   "outputs": [
    {
     "data": {
      "text/plain": [
       "['apple', 'banana', 'kiwi']"
      ]
     },
     "execution_count": 17,
     "metadata": {},
     "output_type": "execute_result"
    }
   ],
   "source": [
    "text = \"apple,banana,kiwi\"\n",
    "fruits = text.split(\",\")  # Returns ['apple', 'banana', 'kiwi']\n",
    "fruits"
   ]
  },
  {
   "cell_type": "markdown",
   "metadata": {},
   "source": [
    "   **`str.join(iterable)`**: Combines elements of an iterable into a single string, separated by the string on which it's called."
   ]
  },
  {
   "cell_type": "code",
   "execution_count": 18,
   "metadata": {},
   "outputs": [
    {
     "data": {
      "text/plain": [
       "'apple,banana,kiwi'"
      ]
     },
     "execution_count": 18,
     "metadata": {},
     "output_type": "execute_result"
    }
   ],
   "source": [
    "fruits = ['apple', 'banana', 'kiwi']\n",
    "text = \",\".join(fruits)  # Returns \"apple,banana,kiwi\"\n",
    "text"
   ]
  },
  {
   "cell_type": "markdown",
   "metadata": {},
   "source": [
    "   **`str.startswith(prefix)`**: Checks if the string starts with the specified prefix and returns a boolean."
   ]
  },
  {
   "cell_type": "code",
   "execution_count": 19,
   "metadata": {},
   "outputs": [
    {
     "data": {
      "text/plain": [
       "True"
      ]
     },
     "execution_count": 19,
     "metadata": {},
     "output_type": "execute_result"
    }
   ],
   "source": [
    "text = \"Hello, World!\"\n",
    "starts_with_hello = text.startswith(\"Hello\")  # Returns True\n",
    "starts_with_hello"
   ]
  },
  {
   "cell_type": "markdown",
   "metadata": {},
   "source": [
    "   **`str.endswith(suffix)`**: Checks if the string ends with the specified suffix and returns a boolean."
   ]
  },
  {
   "cell_type": "code",
   "execution_count": 20,
   "metadata": {},
   "outputs": [
    {
     "data": {
      "text/plain": [
       "True"
      ]
     },
     "execution_count": 20,
     "metadata": {},
     "output_type": "execute_result"
    }
   ],
   "source": [
    "text = \"Hello, World!\"\n",
    "ends_with_exclamation = text.endswith(\"!\")  # Returns True\n",
    "ends_with_exclamation"
   ]
  },
  {
   "cell_type": "markdown",
   "metadata": {},
   "source": [
    "   **`str.find(substring)`**: Searches for the first occurrence of the substring and returns its index. If not found, it returns -1."
   ]
  },
  {
   "cell_type": "code",
   "execution_count": 21,
   "metadata": {},
   "outputs": [
    {
     "data": {
      "text/plain": [
       "7"
      ]
     },
     "execution_count": 21,
     "metadata": {},
     "output_type": "execute_result"
    }
   ],
   "source": [
    "text = \"Hello, World!\"\n",
    "index = text.find(\"World\")  # Returns 7\n",
    "index"
   ]
  },
  {
   "cell_type": "markdown",
   "metadata": {},
   "source": [
    "   **`str.count(substring)`**: Counts the number of non-overlapping occurrences of a substring in the string.\n",
    "\n",
    "\n"
   ]
  },
  {
   "cell_type": "code",
   "execution_count": 22,
   "metadata": {},
   "outputs": [
    {
     "data": {
      "text/plain": [
       "2"
      ]
     },
     "execution_count": 22,
     "metadata": {},
     "output_type": "execute_result"
    }
   ],
   "source": [
    "text = \"Python is great. Python is fun.\"\n",
    "count = text.count(\"Python\")  # Returns 2\n",
    "count"
   ]
  },
  {
   "cell_type": "markdown",
   "metadata": {},
   "source": [
    "**`str.isnumeric()`**: Returns `True` if all characters in the string are numeric, otherwise `False`.\n"
   ]
  },
  {
   "cell_type": "code",
   "execution_count": 23,
   "metadata": {},
   "outputs": [
    {
     "data": {
      "text/plain": [
       "True"
      ]
     },
     "execution_count": 23,
     "metadata": {},
     "output_type": "execute_result"
    }
   ],
   "source": [
    "number = \"12345\"\n",
    "is_numeric = number.isnumeric()  # Returns True\n",
    "is_numeric"
   ]
  },
  {
   "cell_type": "markdown",
   "metadata": {},
   "source": [
    "These are some of the most commonly used string functions in Python. There are more string methods available, so you can refer to Python's official documentation for a comprehensive list and detailed explanations."
   ]
  }
 ],
 "metadata": {
  "kernelspec": {
   "display_name": "Python 3",
   "language": "python",
   "name": "python3"
  },
  "language_info": {
   "codemirror_mode": {
    "name": "ipython",
    "version": 3
   },
   "file_extension": ".py",
   "mimetype": "text/x-python",
   "name": "python",
   "nbconvert_exporter": "python",
   "pygments_lexer": "ipython3",
   "version": "3.10.10"
  }
 },
 "nbformat": 4,
 "nbformat_minor": 2
}
