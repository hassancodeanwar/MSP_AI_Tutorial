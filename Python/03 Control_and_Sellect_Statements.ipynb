{
 "cells": [
  {
   "cell_type": "markdown",
   "metadata": {},
   "source": [
    "## Control flow is a fundamental concept in programming that determines the order in which a program's instructions are executed. It includes conditional statements, loops, and special control flow statements like `break` and `continue`. Here's an overview of each:\n"
   ]
  },
  {
   "cell_type": "markdown",
   "metadata": {},
   "source": [
    "\n",
    "\n",
    "### Conditional Statements:\n",
    "\n",
    "1. **if Statements:**\n",
    "   - An `if` statement is used to make decisions in your code.\n",
    "   - It tests a condition and executes a block of code if the condition is true.\n",
    "   - Example:\n",
    "     ```python\n",
    "     if condition:\n",
    "         # Code to execute if the condition is true\n",
    "     ```\n"
   ]
  },
  {
   "cell_type": "markdown",
   "metadata": {},
   "source": [
    "\n",
    "2. **else Statements:**\n",
    "   - An `else` statement is used in conjunction with an `if` statement to provide an alternative block of code that executes when the condition in the `if` statement is false.\n",
    "   - Example:\n",
    "     ```python\n",
    "     if condition:\n",
    "         # Code to execute if the condition is true\n",
    "     else:\n",
    "         # Code to execute if the condition is false\n",
    "     ```\n",
    "\n",
    "\n"
   ]
  },
  {
   "cell_type": "markdown",
   "metadata": {},
   "source": [
    "3. **elif Statements:**\n",
    "   - An `elif` (short for \"else if\") statement allows you to test multiple conditions in sequence.\n",
    "   - It's used when you have more than one condition to check in a controlled manner.\n",
    "   - Example:\n",
    "     ```python\n",
    "     if condition1:\n",
    "         # Code to execute if condition1 is true\n",
    "     elif condition2:\n",
    "         # Code to execute if condition2 is true\n",
    "     else:\n",
    "         # Code to execute if neither condition1 nor condition2 is true\n",
    "     ```\n",
    "\n"
   ]
  },
  {
   "cell_type": "markdown",
   "metadata": {},
   "source": [
    "### Loops:\n",
    "\n",
    "1. **for Loops:**\n",
    "   - A `for` loop is used to iterate over a sequence (e.g., a list, tuple, or string) and execute a block of code for each element in the sequence.\n",
    "   - Example:\n",
    "     ```python\n",
    "     for element in sequence:\n",
    "         # Code to execute for each element in the sequence\n",
    "     ```\n",
    "\n",
    "\n"
   ]
  },
  {
   "cell_type": "markdown",
   "metadata": {},
   "source": [
    "2. **while Loops:**\n",
    "   - A `while` loop continues to execute a block of code as long as a certain condition is true.\n",
    "   - Example:\n",
    "     ```python\n",
    "     while condition:\n",
    "         # Code to execute as long as the condition is true\n",
    "     ```\n"
   ]
  },
  {
   "cell_type": "markdown",
   "metadata": {},
   "source": [
    "### Break and Continue Statements:\n",
    "\n",
    "1. **Break Statement:**\n",
    "   - The `break` statement is used to exit a loop prematurely, typically when a certain condition is met.\n",
    "   - It allows you to terminate the loop's execution before it reaches the natural end.\n",
    "   - Example:\n",
    "     ```python\n",
    "     for element in sequence:\n",
    "         if condition:\n",
    "             break\n",
    "     ```\n",
    "\n"
   ]
  },
  {
   "cell_type": "markdown",
   "metadata": {},
   "source": [
    "2. **Continue Statement:**\n",
    "   - The `continue` statement is used to skip the current iteration of a loop and move to the next one, based on a certain condition.\n",
    "   - It allows you to bypass the rest of the code within the current iteration and proceed to the next iteration.\n",
    "   - Example:\n",
    "     ```python\n",
    "     for element in sequence:\n",
    "         if condition:\n",
    "             continue\n",
    "         # Code here will be skipped for the current iteration if the condition is met.\n",
    "\n"
   ]
  },
  {
   "cell_type": "markdown",
   "metadata": {},
   "source": [
    "These control flow constructs are essential for building logic and decision-making into your programs, as well as for performing repetitive tasks using loops. They help you create dynamic and responsive code that can adapt to different situations and data."
   ]
  },
  {
   "cell_type": "markdown",
   "metadata": {},
   "source": [
    "## Examples for each of the control flow constructs:\n",
    "\n",
    "### Conditional Statements:\n",
    "\n",
    "1. **if Statement:**"
   ]
  },
  {
   "cell_type": "code",
   "execution_count": 3,
   "metadata": {},
   "outputs": [
    {
     "name": "stdout",
     "output_type": "stream",
     "text": [
      "x is lower than 5\n"
     ]
    }
   ],
   "source": [
    "x = 10\n",
    "if x > 5:\n",
    "    print(\"x is greater than 5\")\n"
   ]
  },
  {
   "cell_type": "markdown",
   "metadata": {},
   "source": [
    "2. **if-else Statement:**\n"
   ]
  },
  {
   "cell_type": "code",
   "execution_count": 4,
   "metadata": {},
   "outputs": [
    {
     "name": "stdout",
     "output_type": "stream",
     "text": [
      "You can vote.\n"
     ]
    }
   ],
   "source": [
    "age = 18\n",
    "if age >= 18:\n",
    "    print(\"You can vote.\")\n",
    "else:\n",
    "    print(\"You cannot vote.\")"
   ]
  },
  {
   "cell_type": "markdown",
   "metadata": {},
   "source": [
    "3. **if-elif-else Statement:**\n"
   ]
  },
  {
   "cell_type": "code",
   "execution_count": 5,
   "metadata": {},
   "outputs": [
    {
     "name": "stdout",
     "output_type": "stream",
     "text": [
      "C\n"
     ]
    }
   ],
   "source": [
    "grade = 75\n",
    "if grade >= 90:\n",
    "    print(\"A\")\n",
    "elif grade >= 80:\n",
    "    print(\"B\")\n",
    "elif grade >= 70:\n",
    "    print(\"C\")\n",
    "else:\n",
    "    print(\"F\")"
   ]
  },
  {
   "cell_type": "markdown",
   "metadata": {},
   "source": [
    "### Loops:\n",
    "\n",
    "1. **for Loop:**"
   ]
  },
  {
   "cell_type": "code",
   "execution_count": 6,
   "metadata": {},
   "outputs": [
    {
     "name": "stdout",
     "output_type": "stream",
     "text": [
      "apple\n",
      "banana\n",
      "cherry\n"
     ]
    }
   ],
   "source": [
    "fruits = [\"apple\", \"banana\", \"cherry\"]\n",
    "for fruit in fruits:\n",
    "    print(fruit)"
   ]
  },
  {
   "cell_type": "markdown",
   "metadata": {},
   "source": [
    "2. **while Loop:**"
   ]
  },
  {
   "cell_type": "code",
   "execution_count": 7,
   "metadata": {},
   "outputs": [
    {
     "name": "stdout",
     "output_type": "stream",
     "text": [
      "Count:  1\n",
      "Count:  2\n",
      "Count:  3\n",
      "Count:  4\n",
      "Count:  5\n"
     ]
    }
   ],
   "source": [
    "count = 1\n",
    "while count <= 5:\n",
    "    print(\"Count: \", count)\n",
    "    count += 1"
   ]
  },
  {
   "cell_type": "markdown",
   "metadata": {},
   "source": [
    "### Break and Continue Statements:\n",
    "\n",
    "1. **Break Statement (inside a for loop):**"
   ]
  },
  {
   "cell_type": "code",
   "execution_count": 9,
   "metadata": {},
   "outputs": [
    {
     "name": "stdout",
     "output_type": "stream",
     "text": [
      "1\n",
      "2\n",
      "3\n",
      "4\n"
     ]
    }
   ],
   "source": [
    "numbers = [1, 2, 3, 4, 5, 6, 7, 8, 9, 10]\n",
    "for number in numbers:\n",
    "    if number == 5:\n",
    "        break\n",
    "    print(number)"
   ]
  },
  {
   "cell_type": "markdown",
   "metadata": {},
   "source": [
    "2. **Continue Statement (inside a for loop):**"
   ]
  },
  {
   "cell_type": "code",
   "execution_count": 10,
   "metadata": {},
   "outputs": [
    {
     "name": "stdout",
     "output_type": "stream",
     "text": [
      "1\n",
      "3\n",
      "5\n",
      "7\n",
      "9\n"
     ]
    }
   ],
   "source": [
    "numbers = [1, 2, 3, 4, 5, 6, 7, 8, 9, 10]\n",
    "for number in numbers:\n",
    "    if number % 2 == 0:\n",
    "        continue\n",
    "    print(number)"
   ]
  },
  {
   "cell_type": "code",
   "execution_count": null,
   "metadata": {},
   "outputs": [],
   "source": []
  },
  {
   "cell_type": "markdown",
   "metadata": {},
   "source": [
    "### . Break and Continue Statements\n",
    "\n",
    "- **Break**: The `break` statement is used to exit a loop prematurely. It's often used with `if` conditions to stop the loop when a certain condition is met.\n",
    "\n"
   ]
  },
  {
   "cell_type": "code",
   "execution_count": 14,
   "metadata": {},
   "outputs": [
    {
     "name": "stdout",
     "output_type": "stream",
     "text": [
      "1\n",
      "2\n"
     ]
    }
   ],
   "source": [
    "numbers = [1, 2, 3, 4, 5]\n",
    "\n",
    "for num in numbers:\n",
    "    if num == 3:\n",
    "        break\n",
    "    print(num)"
   ]
  },
  {
   "cell_type": "markdown",
   "metadata": {},
   "source": [
    "- **Continue**: The `continue` statement is used to skip the current iteration of a loop and continue to the next one.\n"
   ]
  },
  {
   "cell_type": "code",
   "execution_count": 15,
   "metadata": {},
   "outputs": [
    {
     "name": "stdout",
     "output_type": "stream",
     "text": [
      "1\n",
      "2\n",
      "4\n",
      "5\n"
     ]
    }
   ],
   "source": [
    "numbers = [1, 2, 3, 4, 5]\n",
    "\n",
    "for num in numbers:\n",
    "    if num == 3:\n",
    "        continue\n",
    "    print(num)"
   ]
  },
  {
   "cell_type": "markdown",
   "metadata": {},
   "source": [
    "In these examples, the `if`, `else`, and `elif` statements are used for conditional logic. The `for` and `while` loops are used for iterating over sequences and performing actions. The `break` statement is used to exit a loop prematurely, and the `continue` statement is used to skip certain iterations in a loop.\n",
    "\n",
    "Feel free to try out these examples in a Python environment to see how they work."
   ]
  },
  {
   "cell_type": "markdown",
   "metadata": {},
   "source": []
  }
 ],
 "metadata": {
  "kernelspec": {
   "display_name": "Python 3",
   "language": "python",
   "name": "python3"
  },
  "language_info": {
   "codemirror_mode": {
    "name": "ipython",
    "version": 3
   },
   "file_extension": ".py",
   "mimetype": "text/x-python",
   "name": "python",
   "nbconvert_exporter": "python",
   "pygments_lexer": "ipython3",
   "version": "3.10.10"
  }
 },
 "nbformat": 4,
 "nbformat_minor": 2
}
